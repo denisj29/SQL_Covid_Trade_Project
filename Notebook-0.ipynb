{
    "metadata": {
        "kernelspec": {
            "name": "SQL",
            "display_name": "SQL",
            "language": "sql"
        },
        "language_info": {
            "name": "sql",
            "version": ""
        }
    },
    "nbformat_minor": 2,
    "nbformat": 4,
    "cells": [
        {
            "cell_type": "markdown",
            "source": [
                "# **Covid effect on export volumes around the world**\n",
                "\n",
                "## Introduction\n",
                "\n",
                "The covid pandamic has had never seen impacts across multiple dimensions. \n",
                "\n",
                "Goal of this project is a quick analysis on export volumes around the world. before and after Covid-19 has affected the global economy. Using a Dataset provided by KAGGLE We will look at the trade-impacts on different levels, starting with the overall effect around the world. Later, we will go into lower layers of the data, exploring trade effect of different countries and how the effect differs between different commodities. \n",
                "\n",
                "This Analysis will also lay the foundation for a small Dashboard, that will summarize the key results using Tableau Public. The Dashboard can be found here:"
            ],
            "metadata": {
                "azdata_cell_guid": "857a4c5d-9b4c-4d2d-b073-7c28fe7f381b"
            },
            "attachments": {}
        },
        {
            "cell_type": "markdown",
            "source": [
                "## 1\\. Data Preparations\n",
                "\n",
                "before analyzing the data, lets take a quick look at the layout and columns. We will also check, if the data types are suitable for our analysis."
            ],
            "metadata": {
                "azdata_cell_guid": "4c8107a7-7a7c-4902-9152-6667136c64d5"
            },
            "attachments": {}
        },
        {
            "cell_type": "code",
            "source": [
                "Select Top(5) * from Covid_Trade\r\n",
                "Select Top(5) * from Covid_Trade"
            ],
            "metadata": {
                "azdata_cell_guid": "ce9a3c5a-f8ac-4f8c-ad82-05ab951c9256",
                "language": "sql"
            },
            "outputs": [
                {
                    "output_type": "display_data",
                    "data": {
                        "text/html": "(5 rows affected)"
                    },
                    "metadata": {}
                },
                {
                    "output_type": "display_data",
                    "data": {
                        "text/html": "(5 rows affected)"
                    },
                    "metadata": {}
                },
                {
                    "output_type": "display_data",
                    "data": {
                        "text/html": "Total execution time: 00:00:00.020"
                    },
                    "metadata": {}
                },
                {
                    "output_type": "execute_result",
                    "metadata": {},
                    "execution_count": 6,
                    "data": {
                        "application/vnd.dataresource+json": {
                            "schema": {
                                "fields": [
                                    {
                                        "name": "Direction"
                                    },
                                    {
                                        "name": "Year"
                                    },
                                    {
                                        "name": "Date"
                                    },
                                    {
                                        "name": "Weekday"
                                    },
                                    {
                                        "name": "Current_Match"
                                    },
                                    {
                                        "name": "Country"
                                    },
                                    {
                                        "name": "Commodity"
                                    },
                                    {
                                        "name": "Transport_Mode"
                                    },
                                    {
                                        "name": "Measure"
                                    },
                                    {
                                        "name": "Value"
                                    },
                                    {
                                        "name": "Cumulative"
                                    },
                                    {
                                        "name": "month"
                                    },
                                    {
                                        "name": "Year_Month"
                                    }
                                ]
                            },
                            "data": [
                                {
                                    "0": "Exports",
                                    "1": "2015",
                                    "2": "31/01/2015",
                                    "3": "Saturday",
                                    "4": "1/02/2020",
                                    "5": "All",
                                    "6": "All",
                                    "7": "All",
                                    "8": "$",
                                    "9": "257000000",
                                    "10": "257000000",
                                    "11": "1",
                                    "12": "2015-01-01"
                                },
                                {
                                    "0": "Exports",
                                    "1": "2015",
                                    "2": "1/02/2015",
                                    "3": "Sunday",
                                    "4": "2/02/2020",
                                    "5": "All",
                                    "6": "All",
                                    "7": "All",
                                    "8": "$",
                                    "9": "123000000",
                                    "10": "380000000",
                                    "11": "2",
                                    "12": "2015-02-01"
                                },
                                {
                                    "0": "Exports",
                                    "1": "2015",
                                    "2": "2/02/2015",
                                    "3": "Monday",
                                    "4": "3/02/2020",
                                    "5": "All",
                                    "6": "All",
                                    "7": "All",
                                    "8": "$",
                                    "9": "176000000",
                                    "10": "556000000",
                                    "11": "2",
                                    "12": "2015-02-01"
                                },
                                {
                                    "0": "Exports",
                                    "1": "2015",
                                    "2": "3/02/2015",
                                    "3": "Tuesday",
                                    "4": "4/02/2020",
                                    "5": "All",
                                    "6": "All",
                                    "7": "All",
                                    "8": "$",
                                    "9": "115000000",
                                    "10": "671000000",
                                    "11": "2",
                                    "12": "2015-02-01"
                                },
                                {
                                    "0": "Exports",
                                    "1": "2015",
                                    "2": "4/02/2015",
                                    "3": "Wednesday",
                                    "4": "5/02/2020",
                                    "5": "All",
                                    "6": "All",
                                    "7": "All",
                                    "8": "$",
                                    "9": "74000000",
                                    "10": "746000000",
                                    "11": "2",
                                    "12": "2015-02-01"
                                }
                            ]
                        },
                        "text/html": [
                            "<table>",
                            "<tr><th>Direction</th><th>Year</th><th>Date</th><th>Weekday</th><th>Current_Match</th><th>Country</th><th>Commodity</th><th>Transport_Mode</th><th>Measure</th><th>Value</th><th>Cumulative</th><th>month</th><th>Year_Month</th></tr>",
                            "<tr><td>Exports</td><td>2015</td><td>31/01/2015</td><td>Saturday</td><td>1/02/2020</td><td>All</td><td>All</td><td>All</td><td>$</td><td>257000000</td><td>257000000</td><td>1</td><td>2015-01-01</td></tr>",
                            "<tr><td>Exports</td><td>2015</td><td>1/02/2015</td><td>Sunday</td><td>2/02/2020</td><td>All</td><td>All</td><td>All</td><td>$</td><td>123000000</td><td>380000000</td><td>2</td><td>2015-02-01</td></tr>",
                            "<tr><td>Exports</td><td>2015</td><td>2/02/2015</td><td>Monday</td><td>3/02/2020</td><td>All</td><td>All</td><td>All</td><td>$</td><td>176000000</td><td>556000000</td><td>2</td><td>2015-02-01</td></tr>",
                            "<tr><td>Exports</td><td>2015</td><td>3/02/2015</td><td>Tuesday</td><td>4/02/2020</td><td>All</td><td>All</td><td>All</td><td>$</td><td>115000000</td><td>671000000</td><td>2</td><td>2015-02-01</td></tr>",
                            "<tr><td>Exports</td><td>2015</td><td>4/02/2015</td><td>Wednesday</td><td>5/02/2020</td><td>All</td><td>All</td><td>All</td><td>$</td><td>74000000</td><td>746000000</td><td>2</td><td>2015-02-01</td></tr>",
                            "</table>"
                        ]
                    }
                },
                {
                    "output_type": "execute_result",
                    "metadata": {},
                    "execution_count": 6,
                    "data": {
                        "application/vnd.dataresource+json": {
                            "schema": {
                                "fields": [
                                    {
                                        "name": "Direction"
                                    },
                                    {
                                        "name": "Year"
                                    },
                                    {
                                        "name": "Date"
                                    },
                                    {
                                        "name": "Weekday"
                                    },
                                    {
                                        "name": "Current_Match"
                                    },
                                    {
                                        "name": "Country"
                                    },
                                    {
                                        "name": "Commodity"
                                    },
                                    {
                                        "name": "Transport_Mode"
                                    },
                                    {
                                        "name": "Measure"
                                    },
                                    {
                                        "name": "Value"
                                    },
                                    {
                                        "name": "Cumulative"
                                    },
                                    {
                                        "name": "month"
                                    },
                                    {
                                        "name": "Year_Month"
                                    }
                                ]
                            },
                            "data": [
                                {
                                    "0": "Exports",
                                    "1": "2015",
                                    "2": "31/01/2015",
                                    "3": "Saturday",
                                    "4": "1/02/2020",
                                    "5": "All",
                                    "6": "All",
                                    "7": "All",
                                    "8": "$",
                                    "9": "257000000",
                                    "10": "257000000",
                                    "11": "1",
                                    "12": "2015-01-01"
                                },
                                {
                                    "0": "Exports",
                                    "1": "2015",
                                    "2": "1/02/2015",
                                    "3": "Sunday",
                                    "4": "2/02/2020",
                                    "5": "All",
                                    "6": "All",
                                    "7": "All",
                                    "8": "$",
                                    "9": "123000000",
                                    "10": "380000000",
                                    "11": "2",
                                    "12": "2015-02-01"
                                },
                                {
                                    "0": "Exports",
                                    "1": "2015",
                                    "2": "2/02/2015",
                                    "3": "Monday",
                                    "4": "3/02/2020",
                                    "5": "All",
                                    "6": "All",
                                    "7": "All",
                                    "8": "$",
                                    "9": "176000000",
                                    "10": "556000000",
                                    "11": "2",
                                    "12": "2015-02-01"
                                },
                                {
                                    "0": "Exports",
                                    "1": "2015",
                                    "2": "3/02/2015",
                                    "3": "Tuesday",
                                    "4": "4/02/2020",
                                    "5": "All",
                                    "6": "All",
                                    "7": "All",
                                    "8": "$",
                                    "9": "115000000",
                                    "10": "671000000",
                                    "11": "2",
                                    "12": "2015-02-01"
                                },
                                {
                                    "0": "Exports",
                                    "1": "2015",
                                    "2": "4/02/2015",
                                    "3": "Wednesday",
                                    "4": "5/02/2020",
                                    "5": "All",
                                    "6": "All",
                                    "7": "All",
                                    "8": "$",
                                    "9": "74000000",
                                    "10": "746000000",
                                    "11": "2",
                                    "12": "2015-02-01"
                                }
                            ]
                        },
                        "text/html": [
                            "<table>",
                            "<tr><th>Direction</th><th>Year</th><th>Date</th><th>Weekday</th><th>Current_Match</th><th>Country</th><th>Commodity</th><th>Transport_Mode</th><th>Measure</th><th>Value</th><th>Cumulative</th><th>month</th><th>Year_Month</th></tr>",
                            "<tr><td>Exports</td><td>2015</td><td>31/01/2015</td><td>Saturday</td><td>1/02/2020</td><td>All</td><td>All</td><td>All</td><td>$</td><td>257000000</td><td>257000000</td><td>1</td><td>2015-01-01</td></tr>",
                            "<tr><td>Exports</td><td>2015</td><td>1/02/2015</td><td>Sunday</td><td>2/02/2020</td><td>All</td><td>All</td><td>All</td><td>$</td><td>123000000</td><td>380000000</td><td>2</td><td>2015-02-01</td></tr>",
                            "<tr><td>Exports</td><td>2015</td><td>2/02/2015</td><td>Monday</td><td>3/02/2020</td><td>All</td><td>All</td><td>All</td><td>$</td><td>176000000</td><td>556000000</td><td>2</td><td>2015-02-01</td></tr>",
                            "<tr><td>Exports</td><td>2015</td><td>3/02/2015</td><td>Tuesday</td><td>4/02/2020</td><td>All</td><td>All</td><td>All</td><td>$</td><td>115000000</td><td>671000000</td><td>2</td><td>2015-02-01</td></tr>",
                            "<tr><td>Exports</td><td>2015</td><td>4/02/2015</td><td>Wednesday</td><td>5/02/2020</td><td>All</td><td>All</td><td>All</td><td>$</td><td>74000000</td><td>746000000</td><td>2</td><td>2015-02-01</td></tr>",
                            "</table>"
                        ]
                    }
                }
            ],
            "execution_count": 6
        },
        {
            "cell_type": "code",
            "source": [
                "SELECT \r\n",
                "COLUMN_NAME, \r\n",
                "DATA_TYPE \r\n",
                "FROM INFORMATION_SCHEMA.COLUMNS\r\n",
                "Where TABLE_NAME = 'Covid_Trade'\r\n",
                ""
            ],
            "metadata": {
                "azdata_cell_guid": "284965ba-25de-4c41-b9bb-7dd278372b2d",
                "language": "sql"
            },
            "outputs": [
                {
                    "output_type": "display_data",
                    "data": {
                        "text/html": "(13 rows affected)"
                    },
                    "metadata": {}
                },
                {
                    "output_type": "display_data",
                    "data": {
                        "text/html": "Total execution time: 00:00:00.061"
                    },
                    "metadata": {}
                },
                {
                    "output_type": "execute_result",
                    "metadata": {},
                    "execution_count": 13,
                    "data": {
                        "application/vnd.dataresource+json": {
                            "schema": {
                                "fields": [
                                    {
                                        "name": "COLUMN_NAME"
                                    },
                                    {
                                        "name": "DATA_TYPE"
                                    }
                                ]
                            },
                            "data": [
                                {
                                    "0": "Direction",
                                    "1": "varchar"
                                },
                                {
                                    "0": "Year",
                                    "1": "varchar"
                                },
                                {
                                    "0": "Date",
                                    "1": "varchar"
                                },
                                {
                                    "0": "Weekday",
                                    "1": "varchar"
                                },
                                {
                                    "0": "Current_Match",
                                    "1": "varchar"
                                },
                                {
                                    "0": "Country",
                                    "1": "varchar"
                                },
                                {
                                    "0": "Commodity",
                                    "1": "varchar"
                                },
                                {
                                    "0": "Transport_Mode",
                                    "1": "varchar"
                                },
                                {
                                    "0": "Measure",
                                    "1": "varchar"
                                },
                                {
                                    "0": "Value",
                                    "1": "bigint"
                                },
                                {
                                    "0": "Cumulative",
                                    "1": "varchar"
                                },
                                {
                                    "0": "month",
                                    "1": "int"
                                },
                                {
                                    "0": "Year_Month",
                                    "1": "date"
                                }
                            ]
                        },
                        "text/html": [
                            "<table>",
                            "<tr><th>COLUMN_NAME</th><th>DATA_TYPE</th></tr>",
                            "<tr><td>Direction</td><td>varchar</td></tr>",
                            "<tr><td>Year</td><td>varchar</td></tr>",
                            "<tr><td>Date</td><td>varchar</td></tr>",
                            "<tr><td>Weekday</td><td>varchar</td></tr>",
                            "<tr><td>Current_Match</td><td>varchar</td></tr>",
                            "<tr><td>Country</td><td>varchar</td></tr>",
                            "<tr><td>Commodity</td><td>varchar</td></tr>",
                            "<tr><td>Transport_Mode</td><td>varchar</td></tr>",
                            "<tr><td>Measure</td><td>varchar</td></tr>",
                            "<tr><td>Value</td><td>bigint</td></tr>",
                            "<tr><td>Cumulative</td><td>varchar</td></tr>",
                            "<tr><td>month</td><td>int</td></tr>",
                            "<tr><td>Year_Month</td><td>date</td></tr>",
                            "</table>"
                        ]
                    }
                }
            ],
            "execution_count": 13
        },
        {
            "cell_type": "code",
            "source": [
                ""
            ],
            "metadata": {
                "azdata_cell_guid": "1e6d1d79-0057-4be0-b891-0a22cfeab24d",
                "language": "sql"
            },
            "outputs": [],
            "execution_count": null
        },
        {
            "cell_type": "markdown",
            "source": [
                "Looking at the data, there are 3 data preparation tasks required before we start analysing:\n",
                "\n",
                "> **1.** **Creating a \"year-month\" column:** Looking at the date related columns, we have no column to aggregate monthly values by. So, we will begin with creating a \"year-month\" column with date format.\n",
                "\n",
                "> **2\\. Isolating Export Values:** The table contains both, import and exports. When aggregating values, we don't want to mix these two values, so for now we will focus on Exports values only.\n",
                "\n",
                "> **3\\. Changing the data type of the \"Value\" column:** The \"Value\" column shows the numerical values of the imports and exports, expressed in tons and $ worth. To aggregate these values, we will need to change the varchar datatype to a numerical data type. In this case, we will convert the values into integers."
            ],
            "metadata": {
                "azdata_cell_guid": "28d31882-8261-4073-a174-5cbee8705cfb"
            },
            "attachments": {}
        },
        {
            "cell_type": "code",
            "source": [
                ""
            ],
            "metadata": {
                "azdata_cell_guid": "bf4e8be3-3c5e-4b83-ad25-9d8a8833fd1d",
                "language": "sql"
            },
            "outputs": [],
            "execution_count": null
        }
    ]
}